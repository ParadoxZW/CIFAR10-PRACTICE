{
 "cells": [
  {
   "cell_type": "code",
   "execution_count": 1,
   "metadata": {},
   "outputs": [],
   "source": [
    "from torch import tensor\n",
    "import torch\n",
    "import math\n",
    "import numpy as np\n",
    "from torch import nn\n",
    "from ResNet import ResNet\n",
    "from tensorboardX import SummaryWriter"
   ]
  },
  {
   "cell_type": "code",
   "execution_count": 3,
   "metadata": {},
   "outputs": [],
   "source": [
    "net = ResNet().double()\n",
    "x = tensor(np.zeros((128, 3, 32, 32))).double()\n",
    "with SummaryWriter(comment='ResNet') as w:\n",
    "    w.add_graph((x, ), net)\n",
    "# y = net(x)\n",
    "# y.shape"
   ]
  },
  {
   "cell_type": "code",
   "execution_count": 2,
   "metadata": {
    "collapsed": true
   },
   "outputs": [],
   "source": [
    "class DropoutFMP(nn.Module):\n",
    "    \"fractional max pooling with dropout\"\n",
    "    def __init__(self, size, out_channels, dropout=0):\n",
    "        super(DropoutFMP, self).__init__()\n",
    "        self.norm = LayerNorm(features=size)\n",
    "        self.dropout = nn.Dropout(dropout)\n",
    "        self.fmp = FMPBlock(size[0], out_channels)\n",
    "    \n",
    "    def forward(self, x):\n",
    "        x = self.norm(x)\n",
    "        x = self.fmp(x)\n",
    "        x = self.dropout(x)\n",
    "        return x"
   ]
  },
  {
   "cell_type": "code",
   "execution_count": 25,
   "metadata": {
    "collapsed": true
   },
   "outputs": [],
   "source": [
    "class FMPNet(nn.Module):\n",
    "    \"implemnet of a cnn network with fractional max pooling\"\n",
    "    def __init__(self):\n",
    "        super(FMPNet, self).__init__()\n",
    "        n = 1\n",
    "        m = 2\n",
    "        self.input = DropoutFMP((3, 32, 32), n)\n",
    "        layers = []\n",
    "        h = 25  # height\n",
    "        k = 1   # times of 160 channels\n",
    "        while h >= 2:\n",
    "            ne = DropoutFMP((n*k, h, h), n*(k+1), 0.045*k)\n",
    "            k += 1\n",
    "            h = int(0.8 * h)\n",
    "            layers.append(ne)\n",
    "        self.layers = nn.Sequential(*layers)\n",
    "        self.l1 = nn.Linear(n*11, m)\n",
    "        self.l2 = nn.Linear(m, 10)\n",
    "    \n",
    "    def forward(self, x):\n",
    "        x = self.input(x)\n",
    "        x = self.layers(x)\n",
    "        b = x.size()[0]\n",
    "        return self.l2(self.l1(x.view(b, -1)))"
   ]
  },
  {
   "cell_type": "code",
   "execution_count": 26,
   "metadata": {
    "collapsed": true
   },
   "outputs": [],
   "source": [
    "net = FMPNet().double().eval()\n",
    "# x = tensor(np.zeros((1, 3, 32, 32))).double()\n",
    "# y = net(x)\n",
    "# y.shape"
   ]
  },
  {
   "cell_type": "code",
   "execution_count": 27,
   "metadata": {},
   "outputs": [
    {
     "name": "stdout",
     "output_type": "stream",
     "text": [
      "FMPNet(\n",
      "  (input): DropoutFMP(\n",
      "    (norm): LayerNorm()\n",
      "    (dropout): Dropout(p=0)\n",
      "    (fmp): FMPBlock(\n",
      "      (c1): Conv2d(3, 1, kernel_size=(3, 3), stride=(1, 1), padding=(1, 1))\n",
      "      (fmp): FractionalMaxPool2d()\n",
      "    )\n",
      "  )\n",
      "  (layers): Sequential(\n",
      "    (0): DropoutFMP(\n",
      "      (norm): LayerNorm()\n",
      "      (dropout): Dropout(p=0.045)\n",
      "      (fmp): FMPBlock(\n",
      "        (c1): Conv2d(1, 2, kernel_size=(3, 3), stride=(1, 1), padding=(1, 1))\n",
      "        (fmp): FractionalMaxPool2d()\n",
      "      )\n",
      "    )\n",
      "    (1): DropoutFMP(\n",
      "      (norm): LayerNorm()\n",
      "      (dropout): Dropout(p=0.09)\n",
      "      (fmp): FMPBlock(\n",
      "        (c1): Conv2d(2, 3, kernel_size=(3, 3), stride=(1, 1), padding=(1, 1))\n",
      "        (fmp): FractionalMaxPool2d()\n",
      "      )\n",
      "    )\n",
      "    (2): DropoutFMP(\n",
      "      (norm): LayerNorm()\n",
      "      (dropout): Dropout(p=0.135)\n",
      "      (fmp): FMPBlock(\n",
      "        (c1): Conv2d(3, 4, kernel_size=(3, 3), stride=(1, 1), padding=(1, 1))\n",
      "        (fmp): FractionalMaxPool2d()\n",
      "      )\n",
      "    )\n",
      "    (3): DropoutFMP(\n",
      "      (norm): LayerNorm()\n",
      "      (dropout): Dropout(p=0.18)\n",
      "      (fmp): FMPBlock(\n",
      "        (c1): Conv2d(4, 5, kernel_size=(3, 3), stride=(1, 1), padding=(1, 1))\n",
      "        (fmp): FractionalMaxPool2d()\n",
      "      )\n",
      "    )\n",
      "    (4): DropoutFMP(\n",
      "      (norm): LayerNorm()\n",
      "      (dropout): Dropout(p=0.22499999999999998)\n",
      "      (fmp): FMPBlock(\n",
      "        (c1): Conv2d(5, 6, kernel_size=(3, 3), stride=(1, 1), padding=(1, 1))\n",
      "        (fmp): FractionalMaxPool2d()\n",
      "      )\n",
      "    )\n",
      "    (5): DropoutFMP(\n",
      "      (norm): LayerNorm()\n",
      "      (dropout): Dropout(p=0.27)\n",
      "      (fmp): FMPBlock(\n",
      "        (c1): Conv2d(6, 7, kernel_size=(3, 3), stride=(1, 1), padding=(1, 1))\n",
      "        (fmp): FractionalMaxPool2d()\n",
      "      )\n",
      "    )\n",
      "    (6): DropoutFMP(\n",
      "      (norm): LayerNorm()\n",
      "      (dropout): Dropout(p=0.315)\n",
      "      (fmp): FMPBlock(\n",
      "        (c1): Conv2d(7, 8, kernel_size=(3, 3), stride=(1, 1), padding=(1, 1))\n",
      "        (fmp): FractionalMaxPool2d()\n",
      "      )\n",
      "    )\n",
      "    (7): DropoutFMP(\n",
      "      (norm): LayerNorm()\n",
      "      (dropout): Dropout(p=0.36)\n",
      "      (fmp): FMPBlock(\n",
      "        (c1): Conv2d(8, 9, kernel_size=(3, 3), stride=(1, 1), padding=(1, 1))\n",
      "        (fmp): FractionalMaxPool2d()\n",
      "      )\n",
      "    )\n",
      "    (8): DropoutFMP(\n",
      "      (norm): LayerNorm()\n",
      "      (dropout): Dropout(p=0.40499999999999997)\n",
      "      (fmp): FMPBlock(\n",
      "        (c1): Conv2d(9, 10, kernel_size=(3, 3), stride=(1, 1), padding=(1, 1))\n",
      "        (fmp): FractionalMaxPool2d()\n",
      "      )\n",
      "    )\n",
      "    (9): DropoutFMP(\n",
      "      (norm): LayerNorm()\n",
      "      (dropout): Dropout(p=0.44999999999999996)\n",
      "      (fmp): FMPBlock(\n",
      "        (c1): Conv2d(10, 11, kernel_size=(3, 3), stride=(1, 1), padding=(1, 1))\n",
      "        (fmp): FractionalMaxPool2d()\n",
      "      )\n",
      "    )\n",
      "  )\n",
      "  (l1): Linear(in_features=11, out_features=2, bias=True)\n",
      "  (l2): Linear(in_features=2, out_features=10, bias=True)\n",
      ")\n"
     ]
    }
   ],
   "source": [
    "print(net)"
   ]
  },
  {
   "cell_type": "code",
   "execution_count": 28,
   "metadata": {},
   "outputs": [
    {
     "data": {
      "text/plain": [
       "torch.Size([1, 10])"
      ]
     },
     "execution_count": 28,
     "metadata": {},
     "output_type": "execute_result"
    }
   ],
   "source": [
    "x = tensor(np.zeros((1, 3, 32, 32))).double()\n",
    "y = net(x)\n",
    "y.shape"
   ]
  },
  {
   "cell_type": "code",
   "execution_count": 10,
   "metadata": {},
   "outputs": [
    {
     "name": "stdout",
     "output_type": "stream",
     "text": [
      "32\n",
      "25\n",
      "20\n",
      "16\n",
      "12\n",
      "9\n",
      "7\n",
      "5\n",
      "4\n",
      "3\n",
      "2\n",
      "1\n"
     ]
    },
    {
     "data": {
      "text/plain": [
       "12"
      ]
     },
     "execution_count": 10,
     "metadata": {},
     "output_type": "execute_result"
    }
   ],
   "source": [
    "h = 32  # height\n",
    "channel = 0\n",
    "while h >=1:\n",
    "#     ne = DropoutFMP((channel, h, h), channel + 160)\n",
    "    channel += 1\n",
    "    print(h)\n",
    "    h = math.floor(0.8 * h)\n",
    "channel"
   ]
  },
  {
   "cell_type": "code",
   "execution_count": null,
   "metadata": {
    "collapsed": true
   },
   "outputs": [],
   "source": []
  },
  {
   "cell_type": "code",
   "execution_count": 23,
   "metadata": {},
   "outputs": [
    {
     "data": {
      "text/plain": [
       "torch.Size([1, 128, 3, 3])"
      ]
     },
     "execution_count": 23,
     "metadata": {},
     "output_type": "execute_result"
    }
   ],
   "source": [
    "i += 1\n",
    "y = net(y)\n",
    "y.shape"
   ]
  },
  {
   "cell_type": "code",
   "execution_count": 14,
   "metadata": {},
   "outputs": [
    {
     "data": {
      "text/plain": [
       "10"
      ]
     },
     "execution_count": 14,
     "metadata": {},
     "output_type": "execute_result"
    }
   ],
   "source": [
    "i"
   ]
  },
  {
   "cell_type": "code",
   "execution_count": null,
   "metadata": {
    "collapsed": true
   },
   "outputs": [],
   "source": []
  }
 ],
 "metadata": {
  "kernelspec": {
   "display_name": "Python 3",
   "language": "python",
   "name": "python3"
  },
  "language_info": {
   "codemirror_mode": {
    "name": "ipython",
    "version": 3
   },
   "file_extension": ".py",
   "mimetype": "text/x-python",
   "name": "python",
   "nbconvert_exporter": "python",
   "pygments_lexer": "ipython3",
   "version": "3.6.2"
  }
 },
 "nbformat": 4,
 "nbformat_minor": 2
}
